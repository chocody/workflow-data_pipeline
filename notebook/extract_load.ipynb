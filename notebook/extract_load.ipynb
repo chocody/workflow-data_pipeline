{
 "cells": [
  {
   "cell_type": "markdown",
   "metadata": {},
   "source": [
    "# Extract and Load "
   ]
  },
  {
   "cell_type": "code",
   "execution_count": 1,
   "metadata": {},
   "outputs": [],
   "source": [
    "import pandas as pd\n",
    "import os"
   ]
  },
  {
   "cell_type": "markdown",
   "metadata": {},
   "source": [
    "### Extract"
   ]
  },
  {
   "cell_type": "code",
   "execution_count": 4,
   "metadata": {},
   "outputs": [
    {
     "data": {
      "text/html": [
       "<div>\n",
       "<style scoped>\n",
       "    .dataframe tbody tr th:only-of-type {\n",
       "        vertical-align: middle;\n",
       "    }\n",
       "\n",
       "    .dataframe tbody tr th {\n",
       "        vertical-align: top;\n",
       "    }\n",
       "\n",
       "    .dataframe thead th {\n",
       "        text-align: right;\n",
       "    }\n",
       "</style>\n",
       "<table border=\"1\" class=\"dataframe\">\n",
       "  <thead>\n",
       "    <tr style=\"text-align: right;\">\n",
       "      <th></th>\n",
       "      <th>timestamp</th>\n",
       "      <th>device_id</th>\n",
       "      <th>device_name</th>\n",
       "      <th>data_label</th>\n",
       "      <th>value</th>\n",
       "    </tr>\n",
       "  </thead>\n",
       "  <tbody>\n",
       "    <tr>\n",
       "      <th>0</th>\n",
       "      <td>13/03/2568 09:57:27</td>\n",
       "      <td>ac808c50-f96a-11ef-8636-93168e2858a5</td>\n",
       "      <td>ADM</td>\n",
       "      <td>temperature_08</td>\n",
       "      <td>28.3</td>\n",
       "    </tr>\n",
       "    <tr>\n",
       "      <th>1</th>\n",
       "      <td>13/03/2568 09:55:00</td>\n",
       "      <td>ac808c50-f96a-11ef-8636-93168e2858a5</td>\n",
       "      <td>ADM</td>\n",
       "      <td>temperature_08</td>\n",
       "      <td>28.4</td>\n",
       "    </tr>\n",
       "    <tr>\n",
       "      <th>2</th>\n",
       "      <td>13/03/2568 09:52:33</td>\n",
       "      <td>ac808c50-f96a-11ef-8636-93168e2858a5</td>\n",
       "      <td>ADM</td>\n",
       "      <td>temperature_08</td>\n",
       "      <td>28.3</td>\n",
       "    </tr>\n",
       "    <tr>\n",
       "      <th>3</th>\n",
       "      <td>13/03/2568 09:50:06</td>\n",
       "      <td>ac808c50-f96a-11ef-8636-93168e2858a5</td>\n",
       "      <td>ADM</td>\n",
       "      <td>temperature_08</td>\n",
       "      <td>28.4</td>\n",
       "    </tr>\n",
       "    <tr>\n",
       "      <th>4</th>\n",
       "      <td>13/03/2568 09:45:11</td>\n",
       "      <td>ac808c50-f96a-11ef-8636-93168e2858a5</td>\n",
       "      <td>ADM</td>\n",
       "      <td>temperature_08</td>\n",
       "      <td>28.3</td>\n",
       "    </tr>\n",
       "  </tbody>\n",
       "</table>\n",
       "</div>"
      ],
      "text/plain": [
       "             timestamp                             device_id device_name  \\\n",
       "0  13/03/2568 09:57:27  ac808c50-f96a-11ef-8636-93168e2858a5         ADM   \n",
       "1  13/03/2568 09:55:00  ac808c50-f96a-11ef-8636-93168e2858a5         ADM   \n",
       "2  13/03/2568 09:52:33  ac808c50-f96a-11ef-8636-93168e2858a5         ADM   \n",
       "3  13/03/2568 09:50:06  ac808c50-f96a-11ef-8636-93168e2858a5         ADM   \n",
       "4  13/03/2568 09:45:11  ac808c50-f96a-11ef-8636-93168e2858a5         ADM   \n",
       "\n",
       "       data_label  value  \n",
       "0  temperature_08   28.3  \n",
       "1  temperature_08   28.4  \n",
       "2  temperature_08   28.3  \n",
       "3  temperature_08   28.4  \n",
       "4  temperature_08   28.3  "
      ]
     },
     "execution_count": 4,
     "metadata": {},
     "output_type": "execute_result"
    }
   ],
   "source": [
    "# Load CSV\n",
    "iot_room_data = pd.read_csv(os.path.join(\"../\",\"data\", \"AllDevices_30days.csv\"))\n",
    "iot_room_data.head()"
   ]
  },
  {
   "cell_type": "code",
   "execution_count": null,
   "metadata": {},
   "outputs": [],
   "source": []
  }
 ],
 "metadata": {
  "kernelspec": {
   "display_name": "base",
   "language": "python",
   "name": "python3"
  },
  "language_info": {
   "codemirror_mode": {
    "name": "ipython",
    "version": 3
   },
   "file_extension": ".py",
   "mimetype": "text/x-python",
   "name": "python",
   "nbconvert_exporter": "python",
   "pygments_lexer": "ipython3",
   "version": "3.11.7"
  }
 },
 "nbformat": 4,
 "nbformat_minor": 2
}
